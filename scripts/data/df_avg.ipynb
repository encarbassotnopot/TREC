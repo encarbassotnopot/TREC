{
 "cells": [
  {
   "cell_type": "code",
   "execution_count": 2,
   "metadata": {},
   "outputs": [],
   "source": [
    "import pandas as pd\n",
    "import json"
   ]
  },
  {
   "cell_type": "code",
   "execution_count": 40,
   "metadata": {},
   "outputs": [],
   "source": [
    "with open(\"out_1.json\") as f:\n",
    "\ta = json.load(f)\n",
    "\n",
    "df = pd.concat([pd.DataFrame(i) for i in a]).groupby(level=0).mean()\n",
    "df.index = df.index.map(int)\n",
    "df.sort_index(inplace=True)\n",
    "\n",
    "df.to_json(\"out_1_avg.json\")"
   ]
  },
  {
   "cell_type": "code",
   "execution_count": 41,
   "metadata": {},
   "outputs": [
    {
     "data": {
      "text/html": [
       "<div>\n",
       "<style scoped>\n",
       "    .dataframe tbody tr th:only-of-type {\n",
       "        vertical-align: middle;\n",
       "    }\n",
       "\n",
       "    .dataframe tbody tr th {\n",
       "        vertical-align: top;\n",
       "    }\n",
       "\n",
       "    .dataframe thead th {\n",
       "        text-align: right;\n",
       "    }\n",
       "</style>\n",
       "<table border=\"1\" class=\"dataframe\">\n",
       "  <thead>\n",
       "    <tr style=\"text-align: right;\">\n",
       "      <th></th>\n",
       "      <th>bubble</th>\n",
       "      <th>insertion</th>\n",
       "      <th>merge</th>\n",
       "      <th>quick</th>\n",
       "      <th>selection</th>\n",
       "      <th>shell</th>\n",
       "    </tr>\n",
       "  </thead>\n",
       "  <tbody>\n",
       "    <tr>\n",
       "      <th>125</th>\n",
       "      <td>0.028323</td>\n",
       "      <td>0.000682</td>\n",
       "      <td>0.000415</td>\n",
       "      <td>0.000988</td>\n",
       "      <td>0.000716</td>\n",
       "      <td>0.000425</td>\n",
       "    </tr>\n",
       "    <tr>\n",
       "      <th>250</th>\n",
       "      <td>0.212138</td>\n",
       "      <td>0.003271</td>\n",
       "      <td>0.000871</td>\n",
       "      <td>0.001994</td>\n",
       "      <td>0.002736</td>\n",
       "      <td>0.000978</td>\n",
       "    </tr>\n",
       "    <tr>\n",
       "      <th>500</th>\n",
       "      <td>1.676408</td>\n",
       "      <td>0.013377</td>\n",
       "      <td>0.001891</td>\n",
       "      <td>0.007474</td>\n",
       "      <td>0.011801</td>\n",
       "      <td>0.002435</td>\n",
       "    </tr>\n",
       "    <tr>\n",
       "      <th>1000</th>\n",
       "      <td>14.033622</td>\n",
       "      <td>0.051773</td>\n",
       "      <td>0.004148</td>\n",
       "      <td>0.037215</td>\n",
       "      <td>0.050802</td>\n",
       "      <td>0.006082</td>\n",
       "    </tr>\n",
       "    <tr>\n",
       "      <th>2000</th>\n",
       "      <td>116.941429</td>\n",
       "      <td>0.199850</td>\n",
       "      <td>0.009420</td>\n",
       "      <td>0.109191</td>\n",
       "      <td>0.190356</td>\n",
       "      <td>0.013128</td>\n",
       "    </tr>\n",
       "    <tr>\n",
       "      <th>4000</th>\n",
       "      <td>966.929022</td>\n",
       "      <td>0.806647</td>\n",
       "      <td>0.020786</td>\n",
       "      <td>0.370032</td>\n",
       "      <td>0.749763</td>\n",
       "      <td>0.028741</td>\n",
       "    </tr>\n",
       "    <tr>\n",
       "      <th>8000</th>\n",
       "      <td>NaN</td>\n",
       "      <td>3.209834</td>\n",
       "      <td>0.045046</td>\n",
       "      <td>1.599680</td>\n",
       "      <td>2.997284</td>\n",
       "      <td>0.064469</td>\n",
       "    </tr>\n",
       "  </tbody>\n",
       "</table>\n",
       "</div>"
      ],
      "text/plain": [
       "          bubble  insertion     merge     quick  selection     shell\n",
       "125     0.028323   0.000682  0.000415  0.000988   0.000716  0.000425\n",
       "250     0.212138   0.003271  0.000871  0.001994   0.002736  0.000978\n",
       "500     1.676408   0.013377  0.001891  0.007474   0.011801  0.002435\n",
       "1000   14.033622   0.051773  0.004148  0.037215   0.050802  0.006082\n",
       "2000  116.941429   0.199850  0.009420  0.109191   0.190356  0.013128\n",
       "4000  966.929022   0.806647  0.020786  0.370032   0.749763  0.028741\n",
       "8000         NaN   3.209834  0.045046  1.599680   2.997284  0.064469"
      ]
     },
     "execution_count": 41,
     "metadata": {},
     "output_type": "execute_result"
    }
   ],
   "source": [
    "df"
   ]
  }
 ],
 "metadata": {
  "kernelspec": {
   "display_name": "Python 3.8.5 64-bit",
   "language": "python",
   "name": "python38564bitdae05436ba01461b8af125fbae7a7ab2"
  },
  "language_info": {
   "codemirror_mode": {
    "name": "ipython",
    "version": 3
   },
   "file_extension": ".py",
   "mimetype": "text/x-python",
   "name": "python",
   "nbconvert_exporter": "python",
   "pygments_lexer": "ipython3",
   "version": "3.8.5"
  }
 },
 "nbformat": 4,
 "nbformat_minor": 4
}

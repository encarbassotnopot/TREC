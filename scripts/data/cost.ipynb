{
 "cells": [
  {
   "cell_type": "code",
   "execution_count": 1,
   "metadata": {},
   "outputs": [],
   "source": [
    "import pandas as pd\n",
    "from numpy import log10"
   ]
  },
  {
   "cell_type": "code",
   "execution_count": 2,
   "metadata": {},
   "outputs": [],
   "source": [
    "df = pd.read_json(\"./out_1_avg.json\").transpose()"
   ]
  },
  {
   "cell_type": "code",
   "execution_count": 3,
   "metadata": {},
   "outputs": [],
   "source": [
    "exp = pd.DataFrame(data=None, columns=[str(df.columns[i]) + \"/\" + str(df.columns[i-1]) for i in range(len(df.columns))[1:]], index=df.index)\n",
    "for i in range(len(exp.columns)):\n",
    "\texp.iloc[:,i] = log10(df.iloc[:,i+1]/df.iloc[:,i])/log10(2)\n",
    "exp[\"mitjana\"] = exp.mean(axis=1)\n",
    "exp[\"8000/125\"] = log10(df.iloc[:, -1]/df.iloc[:,0])/log10(64)\n",
    "exp[\"8000/125\"][\"bubble\"] = log10(df[4000][\"bubble\"]/df[125][\"bubble\"])/log10(32)"
   ]
  },
  {
   "cell_type": "code",
   "execution_count": 4,
   "metadata": {},
   "outputs": [],
   "source": [
    "df.to_latex(buf=\"../../latex/tables/df.tex\", na_rep=\"(-)\", longtable=False, float_format=\"%.4f\", bold_rows=True)\n",
    "exp.to_latex(buf=\"../../latex/tables/exp.tex\", na_rep=\"(-)\", longtable=False, float_format=\"%.4f\", bold_rows=True)"
   ]
  },
  {
   "cell_type": "code",
   "execution_count": 8,
   "metadata": {},
   "outputs": [
    {
     "data": {
      "text/html": [
       "<div>\n",
       "<style scoped>\n",
       "    .dataframe tbody tr th:only-of-type {\n",
       "        vertical-align: middle;\n",
       "    }\n",
       "\n",
       "    .dataframe tbody tr th {\n",
       "        vertical-align: top;\n",
       "    }\n",
       "\n",
       "    .dataframe thead th {\n",
       "        text-align: right;\n",
       "    }\n",
       "</style>\n",
       "<table border=\"1\" class=\"dataframe\">\n",
       "  <thead>\n",
       "    <tr style=\"text-align: right;\">\n",
       "      <th></th>\n",
       "      <th>250/125</th>\n",
       "      <th>500/250</th>\n",
       "      <th>1000/500</th>\n",
       "      <th>2000/1000</th>\n",
       "      <th>4000/2000</th>\n",
       "      <th>8000/4000</th>\n",
       "      <th>mitjana</th>\n",
       "      <th>8000/125</th>\n",
       "    </tr>\n",
       "  </thead>\n",
       "  <tbody>\n",
       "    <tr>\n",
       "      <th>bubble</th>\n",
       "      <td>2.904946</td>\n",
       "      <td>2.982298</td>\n",
       "      <td>3.065442</td>\n",
       "      <td>3.058827</td>\n",
       "      <td>3.047624</td>\n",
       "      <td>NaN</td>\n",
       "      <td>3.011827</td>\n",
       "      <td>3.011827</td>\n",
       "    </tr>\n",
       "    <tr>\n",
       "      <th>insertion</th>\n",
       "      <td>2.261347</td>\n",
       "      <td>2.031956</td>\n",
       "      <td>1.952478</td>\n",
       "      <td>1.948639</td>\n",
       "      <td>2.013018</td>\n",
       "      <td>1.992490</td>\n",
       "      <td>2.033321</td>\n",
       "      <td>2.033321</td>\n",
       "    </tr>\n",
       "    <tr>\n",
       "      <th>merge</th>\n",
       "      <td>1.068420</td>\n",
       "      <td>1.118272</td>\n",
       "      <td>1.133199</td>\n",
       "      <td>1.183417</td>\n",
       "      <td>1.141779</td>\n",
       "      <td>1.115783</td>\n",
       "      <td>1.126812</td>\n",
       "      <td>1.126812</td>\n",
       "    </tr>\n",
       "    <tr>\n",
       "      <th>quick</th>\n",
       "      <td>1.013541</td>\n",
       "      <td>1.906135</td>\n",
       "      <td>2.315854</td>\n",
       "      <td>1.552894</td>\n",
       "      <td>1.760796</td>\n",
       "      <td>2.112062</td>\n",
       "      <td>1.776880</td>\n",
       "      <td>1.776880</td>\n",
       "    </tr>\n",
       "    <tr>\n",
       "      <th>selection</th>\n",
       "      <td>1.933268</td>\n",
       "      <td>2.108665</td>\n",
       "      <td>2.105990</td>\n",
       "      <td>1.905755</td>\n",
       "      <td>1.977731</td>\n",
       "      <td>1.999149</td>\n",
       "      <td>2.005093</td>\n",
       "      <td>2.005093</td>\n",
       "    </tr>\n",
       "    <tr>\n",
       "      <th>shell</th>\n",
       "      <td>1.203803</td>\n",
       "      <td>1.315737</td>\n",
       "      <td>1.320822</td>\n",
       "      <td>1.110011</td>\n",
       "      <td>1.130480</td>\n",
       "      <td>1.165469</td>\n",
       "      <td>1.207720</td>\n",
       "      <td>1.207720</td>\n",
       "    </tr>\n",
       "  </tbody>\n",
       "</table>\n",
       "</div>"
      ],
      "text/plain": [
       "            250/125   500/250  1000/500  2000/1000  4000/2000  8000/4000  \\\n",
       "bubble     2.904946  2.982298  3.065442   3.058827   3.047624        NaN   \n",
       "insertion  2.261347  2.031956  1.952478   1.948639   2.013018   1.992490   \n",
       "merge      1.068420  1.118272  1.133199   1.183417   1.141779   1.115783   \n",
       "quick      1.013541  1.906135  2.315854   1.552894   1.760796   2.112062   \n",
       "selection  1.933268  2.108665  2.105990   1.905755   1.977731   1.999149   \n",
       "shell      1.203803  1.315737  1.320822   1.110011   1.130480   1.165469   \n",
       "\n",
       "            mitjana  8000/125  \n",
       "bubble     3.011827  3.011827  \n",
       "insertion  2.033321  2.033321  \n",
       "merge      1.126812  1.126812  \n",
       "quick      1.776880  1.776880  \n",
       "selection  2.005093  2.005093  \n",
       "shell      1.207720  1.207720  "
      ]
     },
     "execution_count": 8,
     "metadata": {},
     "output_type": "execute_result"
    }
   ],
   "source": [
    "exp"
   ]
  }
 ],
 "metadata": {
  "kernelspec": {
   "display_name": "Python 3.8.5 64-bit",
   "language": "python",
   "name": "python38564bitdae05436ba01461b8af125fbae7a7ab2"
  },
  "language_info": {
   "codemirror_mode": {
    "name": "ipython",
    "version": 3
   },
   "file_extension": ".py",
   "mimetype": "text/x-python",
   "name": "python",
   "nbconvert_exporter": "python",
   "pygments_lexer": "ipython3",
   "version": "3.8.5"
  }
 },
 "nbformat": 4,
 "nbformat_minor": 4
}
